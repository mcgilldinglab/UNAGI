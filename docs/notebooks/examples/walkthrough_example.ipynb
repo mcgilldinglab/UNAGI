{
 "cells": [
  {
   "cell_type": "markdown",
   "metadata": {},
   "source": [
    "# UNAGI walkthrough\n",
    "A walkthrough of UNAGI pipeline, from loading the example data, to train UNAGI model, perform in-silico perturbation to results visualization.\n",
    "## Install UNAGI from pypi\n",
    "The installation takes around 5 minutes, however, it depends on your download speed.  "
   ]
  },
  {
   "cell_type": "code",
   "execution_count": null,
   "metadata": {},
   "outputs": [],
   "source": [
    "!pip install scUNAGI"
   ]
  },
  {
   "cell_type": "markdown",
   "metadata": {},
   "source": [
    "## Use the example dataset"
   ]
  },
  {
   "cell_type": "code",
   "execution_count": null,
   "metadata": {},
   "outputs": [],
   "source": [
    "!mkdir data\n",
    "!cp -r ../../../UNAGI/data/example data/\n",
    "!git clone https://github.com/phoenixding/idrem.git"
   ]
  },
  {
   "cell_type": "markdown",
   "metadata": {},
   "source": [
    "## Load UNAGI "
   ]
  },
  {
   "cell_type": "code",
   "execution_count": null,
   "metadata": {},
   "outputs": [],
   "source": [
    "import warnings\n",
    "warnings.filterwarnings('ignore')\n",
    "from UNAGI import UNAGI\n",
    "unagi = UNAGI()"
   ]
  },
  {
   "cell_type": "markdown",
   "metadata": {},
   "source": [
    "## load the dataset\n",
    "The example dataset contains 4 stages, and the attribute to indicate the stage id is 'stage', the cell-type annotation attribute is 'name.simple'"
   ]
  },
  {
   "cell_type": "code",
   "execution_count": null,
   "metadata": {},
   "outputs": [],
   "source": [
    "unagi.setup_data('./data/example',total_stage=4,stage_key='stage')"
   ]
  },
  {
   "cell_type": "markdown",
   "metadata": {},
   "source": [
    "## Configure the model architecture of UNAGI and training hyper-parameters"
   ]
  },
  {
   "cell_type": "code",
   "execution_count": null,
   "metadata": {},
   "outputs": [],
   "source": [
    "unagi.setup_training('example',dist='ziln',device='cuda:0',GPU=True,epoch_iter=1,epoch_initial=1,max_iter=2,BATCHSIZE=560)\n",
    "unagi.run_UNAGI(idrem_dir = './idrem')"
   ]
  },
  {
   "cell_type": "code",
   "execution_count": null,
   "metadata": {},
   "outputs": [],
   "source": [
    "import warnings\n",
    "warnings.filterwarnings('ignore')\n",
    "from UNAGI import UNAGI\n",
    "unagi = UNAGI()\n",
    "unagi.analyse_UNAGI('./data/example/1/stagedata/dataset.h5ad',iteration=1,progressionmarker_background_sampling_times=1,run_pertubration=False)"
   ]
  },
  {
   "cell_type": "markdown",
   "metadata": {},
   "source": [
    "## Load the post-analysis data"
   ]
  },
  {
   "cell_type": "code",
   "execution_count": null,
   "metadata": {},
   "outputs": [],
   "source": [
    "import pickle\n",
    "import scanpy as sc\n",
    "from UNAGI import plotting\n",
    "adata = sc.read_h5ad('./example_1/dataset.h5ad')\n",
    "adata.uns = pickle.load(open('./example_1/attribute.pkl', 'rb'))"
   ]
  },
  {
   "cell_type": "markdown",
   "metadata": {},
   "source": [
    "## Plot the composition of cells in individual stages"
   ]
  },
  {
   "cell_type": "code",
   "execution_count": null,
   "metadata": {},
   "outputs": [],
   "source": [
    "plotting.cell_type_composition(adata,'ident','stage',dpi=80)"
   ]
  },
  {
   "cell_type": "markdown",
   "metadata": {},
   "source": [
    "## Plot the UMAPS of cell embeddings for individual stages"
   ]
  },
  {
   "cell_type": "code",
   "execution_count": null,
   "metadata": {},
   "outputs": [],
   "source": [
    "plotting.plot_stages_latent_representation(adata,'ident',stage_key='stage',dpi=80)"
   ]
  },
  {
   "cell_type": "markdown",
   "metadata": {},
   "source": [
    "## Plot dotplots of cell type markers"
   ]
  },
  {
   "cell_type": "code",
   "execution_count": null,
   "metadata": {},
   "outputs": [],
   "source": [
    "plotted_genes = ['IGF1', 'NLGN1', 'ROBO2', 'SLIT2', 'EGFEM1P', 'LINC02388', 'DACH2', 'FGF14', 'ITGBL1', 'MMRN1', 'CCL21', 'ADARB2', 'LRRTM4', 'ZNF385D', 'PRUNE2', 'LDB2', 'AQP1', 'FLT1', 'SLCO2A1', 'EPAS1', 'PCDH17']\n",
    "for i in adata.obs['stage'].unique():\n",
    "    stageadata = adata[adata.obs['stage']==i]\n",
    "    sc.pl.dotplot(stageadata, groupby='ident', var_names=plotted_genes,vmax=2,swap_axes=True)"
   ]
  },
  {
   "cell_type": "markdown",
   "metadata": {},
   "source": [
    "## Plot increasing gene markers and decreasing gene markers from a spcecific track\n",
    "Note: Some tracks might not have increasing or decreasing genes"
   ]
  },
  {
   "cell_type": "code",
   "execution_count": null,
   "metadata": {},
   "outputs": [],
   "source": [
    "import matplotlib.pyplot as plt\n",
    "import pickle\n",
    "import pandas as pd\n",
    "import os\n",
    "import json\n",
    "import numpy as np\n",
    "import scanpy as sc\n",
    "from cycler import cycler\n",
    "def readIdremJson(path, filename):\n",
    "    # print('getting Target genes from ', filename)\n",
    "\n",
    "    path = os.path.join(path,filename,'DREM.json')\n",
    "    f=open(path,\"r\")\n",
    "    lf=f.readlines()\n",
    "    f.close()\n",
    "    lf=\"\".join(lf)\n",
    "    lf=lf[5:-2]+']'\n",
    "    tt=json.loads(lf,strict=False)\n",
    "    return tt\n",
    "def readIdremJson(path, filename):\n",
    "    # print('getting Target genes from ', filename)\n",
    "\n",
    "    path = os.path.join(path,filename,'DREM.json')\n",
    "    f=open(path,\"r\")\n",
    "    lf=f.readlines()\n",
    "    f.close()\n",
    "    lf=\"\".join(lf)\n",
    "    lf=lf[5:-2]+']'\n",
    "    tt=json.loads(lf,strict=False)\n",
    "    return tt\n",
    "def getvalueofMarkers(idrem,filename, gene):\n",
    "    tt = readIdremJson(idrem,filename)\n",
    "    temp = np.array(tt[8])\n",
    "    idrem_genes = np.array(temp[1:,0].tolist())\n",
    "    tendency = temp[1:,4].astype(float)* temp[1:,3].astype(float) * temp[1:,2].astype(float) * temp[1:,1].astype(float)\n",
    "    tendency[tendency <0] = 0\n",
    "    index = [i for i, x in enumerate(tendency) if x <= 0]\n",
    "    genenames = temp[1:,0].tolist()\n",
    "    gene_idx = genenames.index(gene)\n",
    "    change = temp[1:,4].astype(float) - temp[1:,1].astype(float)\n",
    "    stage0 = temp[1:,1].astype(float)\n",
    "    stage1 = temp[1:,2].astype(float)-stage0\n",
    "    stage2 = temp[1:,3].astype(float)-stage0\n",
    "    stage3 = temp[1:,4].astype(float)-stage0\n",
    "    # stage0 = \n",
    "    #return [stage1[gene_idx],stage2[gene_idx],stage3[gene_idx]]\n",
    "    return [0,stage1[gene_idx],stage2[gene_idx],stage3[gene_idx] ]#[change[gene_idx]]\n",
    "def getvaluesFromIDREM(path,genes,tracks,target_track):\n",
    "    out = {}\n",
    "    for gene in genes:\n",
    "        out[gene] = []\n",
    "        filenames = tracks\n",
    "        for each in filenames:\n",
    "            if each == target_track:\n",
    "                name = each+'.txt_viz'\n",
    "                if each[0] != '.':\n",
    "                    each = each.split('.')[0]#.split('-')[-1].split('n')\n",
    "                    out[gene]+=getvalueofMarkers(path,name,gene.split('\\\\')[0])\n",
    "    return out\n",
    "\n",
    "\n",
    "\n",
    "######\n",
    "pm = adata.uns['progressionMarkers']\n",
    "target_track = '12-13-15-12' # use a track from ./example_1/idrem folder, use, x-xnx-x-x format\n",
    "increasing = []\n",
    "decreasing = []\n",
    "genes_increasing = []\n",
    "genes_decreasing = []\n",
    "plt.rcParams['axes.prop_cycle'] = plt.cycler(\"color\", plt.cm.tab20.colors)\n",
    "for each in pm.keys():\n",
    "    if each == target_track:\n",
    "        \n",
    "        tt = readIdremJson('./example_1/idrem',each+'.txt_viz')\n",
    "        tt = readIdremJson('./example_1/idrem',each+'.txt_viz')\n",
    "        scope = []\n",
    "        for i, gene in enumerate(tt[0][6]['genesInNode']):\n",
    "            if gene:\n",
    "                scope.append(tt[3][i])\n",
    "        track = pm[each]\n",
    "        df = pd.DataFrame.from_dict(track['increasing'])\n",
    "        print(scope)\n",
    "        temp = list(df['gene'].values)\n",
    "        go = []\n",
    "        for gene in scope:\n",
    "            if gene in list(df['gene'].values):\n",
    "                go.append(gene)\n",
    "        # go = np.array(go)\n",
    "        df = df.loc[df['gene'].isin(go)]\n",
    "      \n",
    "        df.sort_values(by=['rank'], inplace=True)\n",
    "        increasing.append(df.values[:10])\n",
    "        genes_increasing+=list(df['gene'].values[:10]+'\\\\'+str(each))\n",
    "        df = pd.DataFrame.from_dict(track['decreasing'])\n",
    "        scope = []\n",
    "        for i, gene in enumerate(tt[0][8]['genesInNode']):\n",
    "            if gene:\n",
    "                scope.append(tt[3][i])\n",
    "        \n",
    "        go = []\n",
    "        for gene in scope:\n",
    "            if gene in list(df['gene'].values):\n",
    "                go.append(gene)\n",
    "        # go = np.array(go)\n",
    "        df = df.loc[df['gene'].isin(go)]\n",
    "        df.sort_values(by=['rank'], inplace=True)\n",
    "        decreasing.append(df.values[:10])\n",
    "        genes_decreasing+=list(df['gene'].values[:10]+'\\\\'+str(each))\n",
    "\n",
    "out_increasing = getvaluesFromIDREM('./example_1/idrem',genes_increasing,list(pm.keys()),target_track=target_track)\n",
    "out_decreasing = getvaluesFromIDREM('./example_1/idrem',genes_decreasing,list(pm.keys()),target_track=target_track)\n",
    "\n",
    "import matplotlib.pyplot as plt\n",
    "fig, ax = plt.subplots(1,1,figsize=(4,4),dpi=80)\n",
    "\n",
    "gene_names = list(out_increasing.keys())\n",
    "increasing_gene_names = [x.split('\\\\')[0] for x in gene_names]\n",
    "ax.tick_params(top=True, bottom=False,\n",
    "                   labeltop=True, labelbottom=False)\n",
    "\n",
    "    # Rotate the tick labels and set their alignment.\n",
    "plt.setp(ax.get_yticklabels(), rotation=-30, ha=\"right\",rotation_mode=\"anchor\")\n",
    "plt.setp(ax.get_xticklabels(), rotation=-45, ha=\"right\",rotation_mode=\"anchor\")\n",
    "\n",
    "im0 = ax.plot(np.array([0,1,2,3]),np.array(list(out_increasing.values())+list(out_decreasing.values())).T)\n",
    "gene_names = list(out_decreasing.keys())\n",
    "gene_names = [x.split('\\\\')[0] for x in gene_names]\n",
    "ax.legend(increasing_gene_names+gene_names,loc=2,fontsize='xx-small',bbox_to_anchor=(1.08, 1))\n",
    "ax.tick_params(top=False, bottom=True,\n",
    "                   labeltop=False, labelbottom=True)\n",
    "ax.set_xticks(np.array([0,1,2,3])+0.25,('Control','Stage 1', 'Stage 2','Stage 3'))\n",
    "ax.set_ylim(-1.5,1)\n",
    "\n",
    "ax.set_title('Top Dynamic Genes in the FibAlv-4')\n",
    "ax.set_ylabel('Expression Change (Log2FC)')\n",
    "ax.set_xlabel('Disease Progression')\n",
    "\n",
    "# plt.savefig('genes_in_fib4.pdf',bbox_inches='tight', pad_inches=0)\n",
    "plt.show()"
   ]
  },
  {
   "cell_type": "markdown",
   "metadata": {},
   "source": [
    "## Plot dendrogram of hierarchical clusterings"
   ]
  },
  {
   "cell_type": "code",
   "execution_count": null,
   "metadata": {},
   "outputs": [],
   "source": [
    "plotting.plot_hc_dendrogram(adata,'stage','ident',dpi=80)"
   ]
  },
  {
   "cell_type": "markdown",
   "metadata": {},
   "source": [
    "## Plot hierarchical static markers heatmap"
   ]
  },
  {
   "cell_type": "code",
   "execution_count": null,
   "metadata": {},
   "outputs": [],
   "source": [
    "plotting.hierarchical_static_markers_heatmap(adata,stage=0,cluster=3,level=1,n_genes=20,stage_key='stage',celltype_key='ident')"
   ]
  },
  {
   "cell_type": "markdown",
   "metadata": {},
   "source": [
    "## Perturabtion using custimized pathway database"
   ]
  },
  {
   "cell_type": "code",
   "execution_count": null,
   "metadata": {},
   "outputs": [],
   "source": [
    "!cp ./UNAGI/UNAGI/data/gesa_pathways.npy ./data/gesa_pathways.npy\n",
    "import numpy as np\n",
    "built_in_pathway_data = np.load('./data/gesa_pathways.npy',allow_pickle=True).item()\n",
    "\n",
    "#The keys are the pathway names\n",
    "print(list(built_in_pathway_data.keys())[:10]) # show first 10 pathways\n",
    "#The values are the gene sets\n",
    "print(built_in_pathway_data['BIOCARTA_GRANULOCYTES_PATHWAY'])\n",
    "customized_pathway_database = {}\n",
    "customized_pathway_database['Pathway_A'] = ['COL6A3', 'MET', 'COL7A1', 'MMP1', 'COL11A1', 'COL1A2', 'COL5A2', 'COL4A3', 'COL12A1', 'COL10A1', 'COL5A1', 'COL3A1', 'COL4A4', 'COL14A1', 'COL8A1', 'MMP9', 'COL4A1', 'MMP7', 'COL15A1', 'COL1A1', 'COL17A1', 'COL4A6']\n",
    "customized_pathway_database['Pathway_B'] = ['MAP2','THBS1',]\n",
    "np.save('./example_1/customized_pathway_database.npy',customized_pathway_database)\n",
    "from UNAGI import UNAGI\n",
    "import warnings\n",
    "warnings.filterwarnings(\"ignore\")\n",
    "unagi = UNAGI()\n",
    "data_path = './example_1/dataset.h5ad'\n",
    "iteration = 1 #which iteration of the model to use\n",
    "change_level = 0.5 #reduce the expression to 50% of the original value\n",
    "customized_pathway = './example_1/customized_pathway_database.npy'\n",
    "results = unagi.customize_pathway_perturbation(data_path,iteration,customized_pathway,change_level,target_dir='./example_1',device='cuda:0')"
   ]
  },
  {
   "cell_type": "code",
   "execution_count": null,
   "metadata": {},
   "outputs": [],
   "source": [
    "from UNAGI.perturbations import get_top_pathways\n",
    "get_top_pathways(results, change_level, top_n=10)"
   ]
  },
  {
   "cell_type": "markdown",
   "metadata": {},
   "source": [
    "## Customized drug perturbation\n"
   ]
  },
  {
   "cell_type": "code",
   "execution_count": null,
   "metadata": {},
   "outputs": [],
   "source": [
    "import numpy as np\n",
    "customized_drug_database = {}\n",
    "customized_drug_database['Drug_A'] = ['TACR1:-', 'MAPK4:+', 'DUSP10:-', 'EGFR:+']\n",
    "customized_drug_database['Drug_B'] = ['C3:-', 'KDR:+', 'INSR:-','PLA2G2A:-']\n",
    "customized_drug_database['Drug_C'] = ['COL1A1:-', 'ROBO2:+']\n",
    "np.save('./example_1/customized_drug_database.npy',customized_drug_database)"
   ]
  },
  {
   "cell_type": "code",
   "execution_count": null,
   "metadata": {},
   "outputs": [],
   "source": [
    "from UNAGI import UNAGI\n",
    "import warnings\n",
    "warnings.filterwarnings(\"ignore\")\n",
    "unagi = UNAGI()\n",
    "data_path = './example_1/dataset.h5ad'\n",
    "iteration = 1 #which iteration of the model to use\n",
    "change_level = 0.5 #reduce the expression to 50% of the original value\n",
    "customized_drug = './example_1/customized_drug_database.npy'\n",
    "results = unagi.customize_drug_perturbation(data_path,iteration,customized_drug,change_level,target_dir='./example_1/',device='cuda:0')"
   ]
  },
  {
   "cell_type": "code",
   "execution_count": null,
   "metadata": {},
   "outputs": [],
   "source": [
    "from UNAGI.perturbations import get_top_compounds\n",
    "get_top_compounds(results, change_level, top_n=10)"
   ]
  },
  {
   "cell_type": "code",
   "execution_count": null,
   "metadata": {},
   "outputs": [],
   "source": []
  }
 ],
 "metadata": {
  "language_info": {
   "name": "python"
  }
 },
 "nbformat": 4,
 "nbformat_minor": 2
}
